{
 "cells": [
  {
   "cell_type": "markdown",
   "id": "e5ccf327-5790-4e6f-8209-21382fc08b5e",
   "metadata": {},
   "source": [
    "### Limpieza de datos\n",
    "\n",
    "Importo las librerias y cargo los dataset con los que voy a trabajar"
   ]
  },
  {
   "cell_type": "code",
   "execution_count": 6,
   "id": "b6f039a5-88fc-4cbc-acea-3f64c02b34f5",
   "metadata": {},
   "outputs": [],
   "source": [
    "import numpy as np\n",
    "import pandas as pd\n",
    "import seaborn as sns\n",
    "import matplotlib as plt"
   ]
  },
  {
   "cell_type": "code",
   "execution_count": 30,
   "id": "711accf7-c122-4556-ad28-bd8c27a9b030",
   "metadata": {},
   "outputs": [],
   "source": [
    "df_operaciones = pd.read_csv('ds_operaciones.csv')\n",
    "df_aditivos = pd.read_csv('ds_aditivos.csv')\n",
    "df_calidad = pd.read_csv('ds_calidad.csv')"
   ]
  },
  {
   "cell_type": "code",
   "execution_count": 36,
   "id": "cf6eaafe-99ee-4329-bd3b-292a7807cb8f",
   "metadata": {},
   "outputs": [],
   "source": [
    "df_operaciones['Date'] = pd.to_datetime(df_operaciones['Date'], format='%Y-%m-%d %H:%M:%S')\n",
    "df_aditivos['Date'] = pd.to_datetime(df_aditivos['Date'], format='%Y-%m-%d %H:%M:%S')\n",
    "df_calidad['Date'] = pd.to_datetime(df_calidad['Date'], format='%Y-%m-%d %H:%M:%S')"
   ]
  },
  {
   "cell_type": "code",
   "execution_count": 93,
   "id": "37aa5ce0-34b2-4ea5-8ffd-504eb611b38b",
   "metadata": {},
   "outputs": [
    {
     "name": "stdout",
     "output_type": "stream",
     "text": [
      "<class 'pandas.core.frame.DataFrame'>\n",
      "Index: 132478 entries, 0 to 132480\n",
      "Data columns (total 14 columns):\n",
      " #   Column           Non-Null Count   Dtype         \n",
      "---  ------           --------------   -----         \n",
      " 0   Date             132478 non-null  datetime64[ns]\n",
      " 1   Corte_hoja       132444 non-null  float64       \n",
      " 2   Grado            132478 non-null  object        \n",
      " 3   Velocidad_pope   132458 non-null  float64       \n",
      " 4   Gramaje_cara     132270 non-null  float64       \n",
      " 5   Gramaje_Reverso  132270 non-null  float64       \n",
      " 6   Gramaje_Tripa    132270 non-null  float64       \n",
      " 7   Gramaje_prote    132270 non-null  float64       \n",
      " 8   Caudal_cara      132459 non-null  float64       \n",
      " 9   Caudal_Prote     132459 non-null  float64       \n",
      " 10  Caudal_Reverso   132459 non-null  float64       \n",
      " 11  Caudal_Tripa     132459 non-null  float64       \n",
      " 12  secado_1         132435 non-null  float64       \n",
      " 13  secado_2         132435 non-null  float64       \n",
      "dtypes: datetime64[ns](1), float64(12), object(1)\n",
      "memory usage: 15.2+ MB\n"
     ]
    }
   ],
   "source": [
    "df_operaciones.info()"
   ]
  },
  {
   "cell_type": "code",
   "execution_count": 95,
   "id": "618bd641-0ddb-4716-9785-aca59bf27025",
   "metadata": {},
   "outputs": [
    {
     "name": "stdout",
     "output_type": "stream",
     "text": [
      "<class 'pandas.core.frame.DataFrame'>\n",
      "RangeIndex: 132481 entries, 0 to 132480\n",
      "Data columns (total 16 columns):\n",
      " #   Column                    Non-Null Count   Dtype         \n",
      "---  ------                    --------------   -----         \n",
      " 0   Date                      132481 non-null  datetime64[ns]\n",
      " 1   Resina_CARA               132447 non-null  float64       \n",
      " 2   Resina_TRIPA              132447 non-null  float64       \n",
      " 3   Resina_REVERSO            132447 non-null  float64       \n",
      " 4   Agente_Retencion          132447 non-null  float64       \n",
      " 5   Almidon_cationico_cara    132447 non-null  float64       \n",
      " 6   Soda_CARA                 131328 non-null  float64       \n",
      " 7   Soda_REVERSO              129475 non-null  float64       \n",
      " 8   Agente_Drenaje            132447 non-null  float64       \n",
      " 9   polymin_SK                132447 non-null  float64       \n",
      " 10  Sulfato_CARA              132445 non-null  float64       \n",
      " 11  Sulfato_TRIPA             132447 non-null  float64       \n",
      " 12  Sulfato_REVERSO           132447 non-null  float64       \n",
      " 13  Almidon_CARA-PROTECCION   132447 non-null  float64       \n",
      " 14  Almidon_PROTECCION-TRIPA  132447 non-null  float64       \n",
      " 15  Almidon_REVERSO           132447 non-null  float64       \n",
      "dtypes: datetime64[ns](1), float64(15)\n",
      "memory usage: 16.2 MB\n"
     ]
    }
   ],
   "source": [
    "df_aditivos.info()"
   ]
  },
  {
   "cell_type": "code",
   "execution_count": 51,
   "id": "f778043e-f44f-4812-913a-601dc623719e",
   "metadata": {},
   "outputs": [
    {
     "name": "stdout",
     "output_type": "stream",
     "text": [
      "<class 'pandas.core.frame.DataFrame'>\n",
      "RangeIndex: 132481 entries, 0 to 132480\n",
      "Data columns (total 18 columns):\n",
      " #   Column              Non-Null Count   Dtype         \n",
      "---  ------              --------------   -----         \n",
      " 0   Date                132481 non-null  datetime64[ns]\n",
      " 1   Gramaje_pope        132480 non-null  float64       \n",
      " 2   Humedad_pope        132480 non-null  float64       \n",
      " 3   Espesor_pope        132480 non-null  float64       \n",
      " 4   Rigidez_Long        131354 non-null  float64       \n",
      " 5   Rigidez_Transv      131354 non-null  float64       \n",
      " 6   Scott_Bond          131359 non-null  float64       \n",
      " 7   Blancura_Cara       131354 non-null  float64       \n",
      " 8   Blancura_Reverso    101585 non-null  float64       \n",
      " 9   Cobb_Cara           131101 non-null  float64       \n",
      " 10  Cobb_Cara_Base      129911 non-null  float64       \n",
      " 11  Cobb_Tripa          131101 non-null  float64       \n",
      " 12  Cobb_Reverso        101351 non-null  float64       \n",
      " 13  Brillo_75           132481 non-null  object        \n",
      " 14  Lisura_PPS          131354 non-null  float64       \n",
      " 15  Tersura_Sheffield   131354 non-null  float64       \n",
      " 16  Blistering_Cara     131230 non-null  float64       \n",
      " 17  Blistering_Reverso  101502 non-null  float64       \n",
      "dtypes: datetime64[ns](1), float64(16), object(1)\n",
      "memory usage: 18.2+ MB\n"
     ]
    }
   ],
   "source": [
    "df_calidad.info()"
   ]
  },
  {
   "cell_type": "markdown",
   "id": "60f399e7-202a-42d5-911e-0ee6f009815c",
   "metadata": {},
   "source": [
    "#### ELimino la columna 'Brillo_75' que no tiene datos"
   ]
  },
  {
   "cell_type": "code",
   "execution_count": 54,
   "id": "ec42d483-116b-4810-9e8d-cf84f447e706",
   "metadata": {},
   "outputs": [],
   "source": [
    "df_calidad.drop('Brillo_75', axis=1, inplace=True)"
   ]
  },
  {
   "cell_type": "markdown",
   "id": "58295c4f-420c-45ba-b38e-628a93d666a7",
   "metadata": {},
   "source": [
    "#### Elimino las columnas con más de 30000 valores NaN. 'Blancura_Reverso', 'Cobb_Reverso', 'Blistering_Reverso'\n",
    "Se va a prescindir de la información que pudieran aportar estas tres columnas. Se desestima esta información en favor de la iformación que aportaran las más de 30000 filas de todas las demás columnas. Un estudio aparte se podría hacer con estas filas, pero esto no será aboradado en este proyecto."
   ]
  },
  {
   "cell_type": "code",
   "execution_count": 59,
   "id": "6dc19e58-f103-4af9-86a3-3a8c9ee93050",
   "metadata": {},
   "outputs": [],
   "source": [
    "df_calidad.drop(['Blancura_Reverso', 'Cobb_Reverso', 'Blistering_Reverso'], axis=1, inplace=True)"
   ]
  },
  {
   "cell_type": "code",
   "execution_count": 61,
   "id": "73bbc98e-9a69-4591-9b6a-e775df1e82bd",
   "metadata": {},
   "outputs": [
    {
     "name": "stdout",
     "output_type": "stream",
     "text": [
      "<class 'pandas.core.frame.DataFrame'>\n",
      "RangeIndex: 132481 entries, 0 to 132480\n",
      "Data columns (total 14 columns):\n",
      " #   Column             Non-Null Count   Dtype         \n",
      "---  ------             --------------   -----         \n",
      " 0   Date               132481 non-null  datetime64[ns]\n",
      " 1   Gramaje_pope       132480 non-null  float64       \n",
      " 2   Humedad_pope       132480 non-null  float64       \n",
      " 3   Espesor_pope       132480 non-null  float64       \n",
      " 4   Rigidez_Long       131354 non-null  float64       \n",
      " 5   Rigidez_Transv     131354 non-null  float64       \n",
      " 6   Scott_Bond         131359 non-null  float64       \n",
      " 7   Blancura_Cara      131354 non-null  float64       \n",
      " 8   Cobb_Cara          131101 non-null  float64       \n",
      " 9   Cobb_Cara_Base     129911 non-null  float64       \n",
      " 10  Cobb_Tripa         131101 non-null  float64       \n",
      " 11  Lisura_PPS         131354 non-null  float64       \n",
      " 12  Tersura_Sheffield  131354 non-null  float64       \n",
      " 13  Blistering_Cara    131230 non-null  float64       \n",
      "dtypes: datetime64[ns](1), float64(13)\n",
      "memory usage: 14.2 MB\n"
     ]
    }
   ],
   "source": [
    "df_calidad.info()"
   ]
  },
  {
   "cell_type": "markdown",
   "id": "565a6baf-1164-4a04-83e4-03c9959ff977",
   "metadata": {},
   "source": [
    "#### Elimino las columnas que solo tienen valores cero y NaN, porque no aportan información. 'Encolante_PRE' 'Encolante_CARA' 'Encolante_REVERSO'"
   ]
  },
  {
   "cell_type": "code",
   "execution_count": 65,
   "id": "b0dc2dfc-8173-4e7c-829b-66f82c2db343",
   "metadata": {},
   "outputs": [],
   "source": [
    "df_aditivos.drop(['Encolante_PRE', 'Encolante_CARA', 'Encolante_REVERSO'], axis=1, inplace=True)"
   ]
  },
  {
   "cell_type": "code",
   "execution_count": 67,
   "id": "21370016-d50b-48ac-ba72-35e8ab1ba827",
   "metadata": {},
   "outputs": [
    {
     "name": "stdout",
     "output_type": "stream",
     "text": [
      "<class 'pandas.core.frame.DataFrame'>\n",
      "RangeIndex: 132481 entries, 0 to 132480\n",
      "Data columns (total 16 columns):\n",
      " #   Column                    Non-Null Count   Dtype         \n",
      "---  ------                    --------------   -----         \n",
      " 0   Date                      132481 non-null  datetime64[ns]\n",
      " 1   Resina_CARA               132447 non-null  float64       \n",
      " 2   Resina_TRIPA              132447 non-null  float64       \n",
      " 3   Resina_REVERSO            132447 non-null  float64       \n",
      " 4   Agente_Retencion          132447 non-null  float64       \n",
      " 5   Almidon_cationico_cara    132447 non-null  float64       \n",
      " 6   Soda_CARA                 131328 non-null  float64       \n",
      " 7   Soda_REVERSO              129475 non-null  float64       \n",
      " 8   Agente_Drenaje            132447 non-null  float64       \n",
      " 9   polymin_SK                132447 non-null  float64       \n",
      " 10  Sulfato_CARA              132445 non-null  float64       \n",
      " 11  Sulfato_TRIPA             132447 non-null  float64       \n",
      " 12  Sulfato_REVERSO           132447 non-null  float64       \n",
      " 13  Almidon_CARA-PROTECCION   132447 non-null  float64       \n",
      " 14  Almidon_PROTECCION-TRIPA  132447 non-null  float64       \n",
      " 15  Almidon_REVERSO           132447 non-null  float64       \n",
      "dtypes: datetime64[ns](1), float64(15)\n",
      "memory usage: 16.2 MB\n"
     ]
    }
   ],
   "source": [
    "df_aditivos.info()"
   ]
  },
  {
   "cell_type": "markdown",
   "id": "f7ed81ab-7994-42d5-98b2-b84f266bd3e9",
   "metadata": {},
   "source": [
    "#### Elimino las filas de 'Grado' que no corresponden a la variable categórica de tipo de fabricación"
   ]
  },
  {
   "cell_type": "code",
   "execution_count": 71,
   "id": "9c6b34c4-1c3b-478b-a53b-12bb2e3bcc8e",
   "metadata": {},
   "outputs": [],
   "source": [
    "df_operaciones = df_operaciones[~df_operaciones['Grado'].isin(['Cargando...', 'I/O Timeout'])]"
   ]
  },
  {
   "cell_type": "code",
   "execution_count": 75,
   "id": "01f4a9a6-d120-44d7-9d1e-64692a2976bb",
   "metadata": {},
   "outputs": [
    {
     "data": {
      "text/plain": [
       "Index(['Date', 'Corte_hoja', 'Grado', 'Velocidad_pope', 'Gramaje_cara',\n",
       "       'Gramaje_Reverso', 'Gramaje_Tripa', 'Gramaje_prote', 'Caudal_cara',\n",
       "       'Caudal_Prote', 'Caudal_Reverso', 'Caudal_Tripa', 'secado_1',\n",
       "       'secado_2'],\n",
       "      dtype='object')"
      ]
     },
     "execution_count": 75,
     "metadata": {},
     "output_type": "execute_result"
    }
   ],
   "source": [
    "df_operaciones.columns"
   ]
  },
  {
   "cell_type": "code",
   "execution_count": 79,
   "id": "c9b1d6c0-5fb0-4cc3-9f83-834118c73f3b",
   "metadata": {},
   "outputs": [
    {
     "data": {
      "text/plain": [
       "Grado\n",
       "3C270B    16065\n",
       "2C245C    13680\n",
       "3C265C    12940\n",
       "2C225B     9674\n",
       "3C330C     7935\n",
       "3C250B     7478\n",
       "3C285C     6589\n",
       "3C290B     5701\n",
       "3C340B     5482\n",
       "2C205B     5430\n",
       "3C260M     4627\n",
       "2C250M     3783\n",
       "3C310C     3698\n",
       "3C370C     3686\n",
       "3C255C     3464\n",
       "3C295C     2666\n",
       "2C240B     2462\n",
       "3C295M     2433\n",
       "2C235M     2425\n",
       "3C345C     2356\n",
       "3C315B     2346\n",
       "2C215M     1972\n",
       "3C275M     1673\n",
       "3C370B     1269\n",
       "2C325M      641\n",
       "3C325M      556\n",
       "2F225M      413\n",
       "3C370M      371\n",
       "3C310M      336\n",
       "3C311M      167\n",
       "2C295C      160\n",
       "Name: count, dtype: int64"
      ]
     },
     "execution_count": 79,
     "metadata": {},
     "output_type": "execute_result"
    }
   ],
   "source": [
    "df_operaciones['Grado'].value_counts()"
   ]
  },
  {
   "cell_type": "markdown",
   "id": "ab52a6d5-2302-4438-8059-9ac359943ced",
   "metadata": {},
   "source": [
    "#### Uno los dataset limpiados en un solo dataset df_combinado"
   ]
  },
  {
   "cell_type": "code",
   "execution_count": 86,
   "id": "12b8057b-94f4-4a40-ad7a-000b5cb74be0",
   "metadata": {},
   "outputs": [],
   "source": [
    "df_combinado = df_operaciones.merge(df_aditivos, on='Date').merge(df_calidad, on='Date')"
   ]
  },
  {
   "cell_type": "code",
   "execution_count": 88,
   "id": "1a012ccc-ea16-49f1-be8e-4e55138e2cce",
   "metadata": {},
   "outputs": [
    {
     "name": "stdout",
     "output_type": "stream",
     "text": [
      "<class 'pandas.core.frame.DataFrame'>\n",
      "RangeIndex: 132478 entries, 0 to 132477\n",
      "Data columns (total 42 columns):\n",
      " #   Column                    Non-Null Count   Dtype         \n",
      "---  ------                    --------------   -----         \n",
      " 0   Date                      132478 non-null  datetime64[ns]\n",
      " 1   Corte_hoja                132444 non-null  float64       \n",
      " 2   Grado                     132478 non-null  object        \n",
      " 3   Velocidad_pope            132458 non-null  float64       \n",
      " 4   Gramaje_cara              132270 non-null  float64       \n",
      " 5   Gramaje_Reverso           132270 non-null  float64       \n",
      " 6   Gramaje_Tripa             132270 non-null  float64       \n",
      " 7   Gramaje_prote             132270 non-null  float64       \n",
      " 8   Caudal_cara               132459 non-null  float64       \n",
      " 9   Caudal_Prote              132459 non-null  float64       \n",
      " 10  Caudal_Reverso            132459 non-null  float64       \n",
      " 11  Caudal_Tripa              132459 non-null  float64       \n",
      " 12  secado_1                  132435 non-null  float64       \n",
      " 13  secado_2                  132435 non-null  float64       \n",
      " 14  Resina_CARA               132444 non-null  float64       \n",
      " 15  Resina_TRIPA              132444 non-null  float64       \n",
      " 16  Resina_REVERSO            132444 non-null  float64       \n",
      " 17  Agente_Retencion          132444 non-null  float64       \n",
      " 18  Almidon_cationico_cara    132444 non-null  float64       \n",
      " 19  Soda_CARA                 131325 non-null  float64       \n",
      " 20  Soda_REVERSO              129472 non-null  float64       \n",
      " 21  Agente_Drenaje            132444 non-null  float64       \n",
      " 22  polymin_SK                132444 non-null  float64       \n",
      " 23  Sulfato_CARA              132442 non-null  float64       \n",
      " 24  Sulfato_TRIPA             132444 non-null  float64       \n",
      " 25  Sulfato_REVERSO           132444 non-null  float64       \n",
      " 26  Almidon_CARA-PROTECCION   132444 non-null  float64       \n",
      " 27  Almidon_PROTECCION-TRIPA  132444 non-null  float64       \n",
      " 28  Almidon_REVERSO           132444 non-null  float64       \n",
      " 29  Gramaje_pope              132478 non-null  float64       \n",
      " 30  Humedad_pope              132478 non-null  float64       \n",
      " 31  Espesor_pope              132478 non-null  float64       \n",
      " 32  Rigidez_Long              131351 non-null  float64       \n",
      " 33  Rigidez_Transv            131351 non-null  float64       \n",
      " 34  Scott_Bond                131356 non-null  float64       \n",
      " 35  Blancura_Cara             131351 non-null  float64       \n",
      " 36  Cobb_Cara                 131098 non-null  float64       \n",
      " 37  Cobb_Cara_Base            129908 non-null  float64       \n",
      " 38  Cobb_Tripa                131098 non-null  float64       \n",
      " 39  Lisura_PPS                131351 non-null  float64       \n",
      " 40  Tersura_Sheffield         131351 non-null  float64       \n",
      " 41  Blistering_Cara           131227 non-null  float64       \n",
      "dtypes: datetime64[ns](1), float64(40), object(1)\n",
      "memory usage: 42.5+ MB\n"
     ]
    }
   ],
   "source": [
    "df_combinado.info()"
   ]
  },
  {
   "cell_type": "code",
   "execution_count": 99,
   "id": "6d057e88-f59a-4847-b69a-79d019fdf469",
   "metadata": {},
   "outputs": [
    {
     "data": {
      "text/plain": [
       "Index(['Date', 'Corte_hoja', 'Grado', 'Velocidad_pope', 'Gramaje_cara',\n",
       "       'Gramaje_Reverso', 'Gramaje_Tripa', 'Gramaje_prote', 'Caudal_cara',\n",
       "       'Caudal_Prote', 'Caudal_Reverso', 'Caudal_Tripa', 'secado_1',\n",
       "       'secado_2', 'Resina_CARA', 'Resina_TRIPA', 'Resina_REVERSO',\n",
       "       'Agente_Retencion', 'Almidon_cationico_cara', 'Soda_CARA ',\n",
       "       'Soda_REVERSO', 'Agente_Drenaje', 'polymin_SK', 'Sulfato_CARA',\n",
       "       'Sulfato_TRIPA', 'Sulfato_REVERSO', 'Almidon_CARA-PROTECCION',\n",
       "       'Almidon_PROTECCION-TRIPA', 'Almidon_REVERSO', 'Gramaje_pope',\n",
       "       'Humedad_pope', 'Espesor_pope', 'Rigidez_Long', 'Rigidez_Transv',\n",
       "       'Scott_Bond', 'Blancura_Cara', 'Cobb_Cara', 'Cobb_Cara_Base',\n",
       "       'Cobb_Tripa', 'Lisura_PPS', 'Tersura_Sheffield', 'Blistering_Cara'],\n",
       "      dtype='object')"
      ]
     },
     "execution_count": 99,
     "metadata": {},
     "output_type": "execute_result"
    }
   ],
   "source": [
    "df_combinado.columns"
   ]
  },
  {
   "cell_type": "code",
   "execution_count": 103,
   "id": "d533a2cc-c09a-49f0-b50f-f7e0ad706424",
   "metadata": {},
   "outputs": [],
   "source": [
    "columnas_numericas = ['Corte_hoja', 'Velocidad_pope', 'Gramaje_cara',\n",
    "       'Gramaje_Reverso', 'Gramaje_Tripa', 'Gramaje_prote', 'Caudal_cara',\n",
    "       'Caudal_Prote', 'Caudal_Reverso', 'Caudal_Tripa', 'secado_1',\n",
    "       'secado_2', 'Resina_CARA', 'Resina_TRIPA', 'Resina_REVERSO',\n",
    "       'Agente_Retencion', 'Almidon_cationico_cara', 'Soda_CARA ',\n",
    "       'Soda_REVERSO', 'Agente_Drenaje', 'polymin_SK', 'Sulfato_CARA',\n",
    "       'Sulfato_TRIPA', 'Sulfato_REVERSO', 'Almidon_CARA-PROTECCION',\n",
    "       'Almidon_PROTECCION-TRIPA', 'Almidon_REVERSO', 'Gramaje_pope',\n",
    "       'Humedad_pope', 'Espesor_pope', 'Rigidez_Long', 'Rigidez_Transv',\n",
    "       'Scott_Bond', 'Blancura_Cara', 'Cobb_Cara', 'Cobb_Cara_Base',\n",
    "       'Cobb_Tripa', 'Lisura_PPS', 'Tersura_Sheffield', 'Blistering_Cara']"
   ]
  },
  {
   "cell_type": "code",
   "execution_count": 107,
   "id": "358aaeb2-508d-47da-af4d-b2da4dbe213b",
   "metadata": {},
   "outputs": [
    {
     "name": "stdout",
     "output_type": "stream",
     "text": [
      "Valores NaN\n",
      "Corte_hoja:  34\n",
      "Velocidad_pope:  20\n",
      "Gramaje_cara:  208\n",
      "Gramaje_Reverso:  208\n",
      "Gramaje_Tripa:  208\n",
      "Gramaje_prote:  208\n",
      "Caudal_cara:  19\n",
      "Caudal_Prote:  19\n",
      "Caudal_Reverso:  19\n",
      "Caudal_Tripa:  19\n",
      "secado_1:  43\n",
      "secado_2:  43\n",
      "Resina_CARA:  34\n",
      "Resina_TRIPA:  34\n",
      "Resina_REVERSO:  34\n",
      "Agente_Retencion:  34\n",
      "Almidon_cationico_cara:  34\n",
      "Soda_CARA :  1153\n",
      "Soda_REVERSO:  3006\n",
      "Agente_Drenaje:  34\n",
      "polymin_SK:  34\n",
      "Sulfato_CARA:  36\n",
      "Sulfato_TRIPA:  34\n",
      "Sulfato_REVERSO:  34\n",
      "Almidon_CARA-PROTECCION:  34\n",
      "Almidon_PROTECCION-TRIPA:  34\n",
      "Almidon_REVERSO:  34\n",
      "Gramaje_pope:  0\n",
      "Humedad_pope:  0\n",
      "Espesor_pope:  0\n",
      "Rigidez_Long:  1127\n",
      "Rigidez_Transv:  1127\n",
      "Scott_Bond:  1122\n",
      "Blancura_Cara:  1127\n",
      "Cobb_Cara:  1380\n",
      "Cobb_Cara_Base:  2570\n",
      "Cobb_Tripa:  1380\n",
      "Lisura_PPS:  1127\n",
      "Tersura_Sheffield:  1127\n",
      "Blistering_Cara:  1251\n"
     ]
    }
   ],
   "source": [
    "print('Valores NaN')\n",
    "for i in columnas_numericas:\n",
    "    print(f'{i}: ', df_combinado[i].isna().sum())"
   ]
  },
  {
   "cell_type": "code",
   "execution_count": 109,
   "id": "ffab6a65-ab8b-4a5f-90e2-b168cdcd0515",
   "metadata": {},
   "outputs": [],
   "source": [
    "for i in columnas_numericas:\n",
    "    df_combinado = df_combinado.dropna(subset=[i])"
   ]
  },
  {
   "cell_type": "code",
   "execution_count": 111,
   "id": "ff667055-f746-418b-8c9c-328e293c3bff",
   "metadata": {},
   "outputs": [
    {
     "name": "stdout",
     "output_type": "stream",
     "text": [
      "Valores NaN\n",
      "Corte_hoja:  0\n",
      "Velocidad_pope:  0\n",
      "Gramaje_cara:  0\n",
      "Gramaje_Reverso:  0\n",
      "Gramaje_Tripa:  0\n",
      "Gramaje_prote:  0\n",
      "Caudal_cara:  0\n",
      "Caudal_Prote:  0\n",
      "Caudal_Reverso:  0\n",
      "Caudal_Tripa:  0\n",
      "secado_1:  0\n",
      "secado_2:  0\n",
      "Resina_CARA:  0\n",
      "Resina_TRIPA:  0\n",
      "Resina_REVERSO:  0\n",
      "Agente_Retencion:  0\n",
      "Almidon_cationico_cara:  0\n",
      "Soda_CARA :  0\n",
      "Soda_REVERSO:  0\n",
      "Agente_Drenaje:  0\n",
      "polymin_SK:  0\n",
      "Sulfato_CARA:  0\n",
      "Sulfato_TRIPA:  0\n",
      "Sulfato_REVERSO:  0\n",
      "Almidon_CARA-PROTECCION:  0\n",
      "Almidon_PROTECCION-TRIPA:  0\n",
      "Almidon_REVERSO:  0\n",
      "Gramaje_pope:  0\n",
      "Humedad_pope:  0\n",
      "Espesor_pope:  0\n",
      "Rigidez_Long:  0\n",
      "Rigidez_Transv:  0\n",
      "Scott_Bond:  0\n",
      "Blancura_Cara:  0\n",
      "Cobb_Cara:  0\n",
      "Cobb_Cara_Base:  0\n",
      "Cobb_Tripa:  0\n",
      "Lisura_PPS:  0\n",
      "Tersura_Sheffield:  0\n",
      "Blistering_Cara:  0\n"
     ]
    }
   ],
   "source": [
    "print('Valores NaN')\n",
    "for i in columnas_numericas:\n",
    "    print(f'{i}: ', df_combinado[i].isna().sum())"
   ]
  },
  {
   "cell_type": "code",
   "execution_count": 113,
   "id": "15a6d2e2-9325-4584-a550-00bbb8a20f2e",
   "metadata": {},
   "outputs": [
    {
     "name": "stdout",
     "output_type": "stream",
     "text": [
      "<class 'pandas.core.frame.DataFrame'>\n",
      "Index: 126690 entries, 0 to 132477\n",
      "Data columns (total 42 columns):\n",
      " #   Column                    Non-Null Count   Dtype         \n",
      "---  ------                    --------------   -----         \n",
      " 0   Date                      126690 non-null  datetime64[ns]\n",
      " 1   Corte_hoja                126690 non-null  float64       \n",
      " 2   Grado                     126690 non-null  object        \n",
      " 3   Velocidad_pope            126690 non-null  float64       \n",
      " 4   Gramaje_cara              126690 non-null  float64       \n",
      " 5   Gramaje_Reverso           126690 non-null  float64       \n",
      " 6   Gramaje_Tripa             126690 non-null  float64       \n",
      " 7   Gramaje_prote             126690 non-null  float64       \n",
      " 8   Caudal_cara               126690 non-null  float64       \n",
      " 9   Caudal_Prote              126690 non-null  float64       \n",
      " 10  Caudal_Reverso            126690 non-null  float64       \n",
      " 11  Caudal_Tripa              126690 non-null  float64       \n",
      " 12  secado_1                  126690 non-null  float64       \n",
      " 13  secado_2                  126690 non-null  float64       \n",
      " 14  Resina_CARA               126690 non-null  float64       \n",
      " 15  Resina_TRIPA              126690 non-null  float64       \n",
      " 16  Resina_REVERSO            126690 non-null  float64       \n",
      " 17  Agente_Retencion          126690 non-null  float64       \n",
      " 18  Almidon_cationico_cara    126690 non-null  float64       \n",
      " 19  Soda_CARA                 126690 non-null  float64       \n",
      " 20  Soda_REVERSO              126690 non-null  float64       \n",
      " 21  Agente_Drenaje            126690 non-null  float64       \n",
      " 22  polymin_SK                126690 non-null  float64       \n",
      " 23  Sulfato_CARA              126690 non-null  float64       \n",
      " 24  Sulfato_TRIPA             126690 non-null  float64       \n",
      " 25  Sulfato_REVERSO           126690 non-null  float64       \n",
      " 26  Almidon_CARA-PROTECCION   126690 non-null  float64       \n",
      " 27  Almidon_PROTECCION-TRIPA  126690 non-null  float64       \n",
      " 28  Almidon_REVERSO           126690 non-null  float64       \n",
      " 29  Gramaje_pope              126690 non-null  float64       \n",
      " 30  Humedad_pope              126690 non-null  float64       \n",
      " 31  Espesor_pope              126690 non-null  float64       \n",
      " 32  Rigidez_Long              126690 non-null  float64       \n",
      " 33  Rigidez_Transv            126690 non-null  float64       \n",
      " 34  Scott_Bond                126690 non-null  float64       \n",
      " 35  Blancura_Cara             126690 non-null  float64       \n",
      " 36  Cobb_Cara                 126690 non-null  float64       \n",
      " 37  Cobb_Cara_Base            126690 non-null  float64       \n",
      " 38  Cobb_Tripa                126690 non-null  float64       \n",
      " 39  Lisura_PPS                126690 non-null  float64       \n",
      " 40  Tersura_Sheffield         126690 non-null  float64       \n",
      " 41  Blistering_Cara           126690 non-null  float64       \n",
      "dtypes: datetime64[ns](1), float64(40), object(1)\n",
      "memory usage: 41.6+ MB\n"
     ]
    }
   ],
   "source": [
    "df_combinado.info()"
   ]
  },
  {
   "cell_type": "markdown",
   "id": "eb1fbf56-6c47-4e97-a9b7-3c9ada34125f",
   "metadata": {},
   "source": [
    "#### Guardo el dataframe como un sataset csv para usar posteriormente"
   ]
  },
  {
   "cell_type": "code",
   "execution_count": 115,
   "id": "bc944ba1-552f-4ce3-9e1d-5dd140475f87",
   "metadata": {},
   "outputs": [],
   "source": [
    "df_combinado.to_csv('ds_combinado.csv', index=False)"
   ]
  },
  {
   "cell_type": "code",
   "execution_count": null,
   "id": "3609ce70-8a8a-48c6-b7fd-6917f1de6a2a",
   "metadata": {},
   "outputs": [],
   "source": []
  }
 ],
 "metadata": {
  "kernelspec": {
   "display_name": "proyecto_final_cristian_vasquez (Python 3.12)",
   "language": "python",
   "name": "proyecto_final_cristian_vasquez"
  },
  "language_info": {
   "codemirror_mode": {
    "name": "ipython",
    "version": 3
   },
   "file_extension": ".py",
   "mimetype": "text/x-python",
   "name": "python",
   "nbconvert_exporter": "python",
   "pygments_lexer": "ipython3",
   "version": "3.12.4"
  }
 },
 "nbformat": 4,
 "nbformat_minor": 5
}
