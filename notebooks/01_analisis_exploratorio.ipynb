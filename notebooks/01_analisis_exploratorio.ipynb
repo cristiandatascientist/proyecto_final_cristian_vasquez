{
 "cells": [
  {
   "cell_type": "code",
   "execution_count": null,
   "id": "42e8a7be-1f8e-4541-a4c1-9fbd2a30485d",
   "metadata": {},
   "outputs": [],
   "source": []
  }
 ],
 "metadata": {
  "kernelspec": {
   "display_name": "proyecto_final_cristian_vasquez (Python 3.12)",
   "language": "python",
   "name": "proyecto_final_cristian_vasquez"
  },
  "language_info": {
   "codemirror_mode": {
    "name": "ipython",
    "version": 3
   },
   "file_extension": ".py",
   "mimetype": "text/x-python",
   "name": "python",
   "nbconvert_exporter": "python",
   "pygments_lexer": "ipython3",
   "version": "3.12.4"
  }
 },
 "nbformat": 4,
 "nbformat_minor": 5
}
