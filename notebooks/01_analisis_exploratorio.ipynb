{
 "cells": [
  {
   "cell_type": "markdown",
   "id": "7d6a65be-6d32-4b86-9cec-d926867f2c54",
   "metadata": {},
   "source": [
    "### Analisis exploratorio\n",
    "Importo las librerias que voy a necesitar y cargo los dataset con los que voy a trabajar. Se trata de 3 dataset de tres áreas de una fábrica de hojas de papel. los datos se toman cada un minuto. Los dataset vienen tal como estan en la base de datos. Es decir sin limpiar.\n",
    "\n",
    "Operaciones: Se encarga de la producción.\\\n",
    "Aditivos: Se encarga de la aplicación de productos químicos necesarios para la producción.\\\n",
    "Caliedad: Se encarga de controlar las variables de calidad importantes para los clientes."
   ]
  },
  {
   "cell_type": "code",
   "execution_count": 442,
   "id": "42e8a7be-1f8e-4541-a4c1-9fbd2a30485d",
   "metadata": {},
   "outputs": [],
   "source": [
    "import numpy as np\n",
    "import pandas as pd\n",
    "import seaborn as sns\n",
    "import matplotlib.pyplot as plt"
   ]
  },
  {
   "cell_type": "code",
   "execution_count": 352,
   "id": "6dbc7765-be1f-4e95-9971-0c19b59861a2",
   "metadata": {},
   "outputs": [
    {
     "name": "stderr",
     "output_type": "stream",
     "text": [
      "C:\\Users\\sas\\AppData\\Local\\Temp\\ipykernel_27412\\285350360.py:1: DtypeWarning: Columns (1,3,4,5,6,7,8,9,10,11,12,13) have mixed types. Specify dtype option on import or set low_memory=False.\n",
      "  df_operaciones = pd.read_csv('operaciones.csv')\n",
      "C:\\Users\\sas\\AppData\\Local\\Temp\\ipykernel_27412\\285350360.py:2: DtypeWarning: Columns (1,2,3,4,5,6,7,8,9,10,11,12,13,14,15,16,17,18) have mixed types. Specify dtype option on import or set low_memory=False.\n",
      "  df_aditivos = pd.read_csv('aditivos.csv')\n",
      "C:\\Users\\sas\\AppData\\Local\\Temp\\ipykernel_27412\\285350360.py:3: DtypeWarning: Columns (1,2,3,4,5,6,7,8,9,10,11,12,14,15,16,17) have mixed types. Specify dtype option on import or set low_memory=False.\n",
      "  df_calidad = pd.read_csv('calidad.csv')\n"
     ]
    }
   ],
   "source": [
    "df_operaciones = pd.read_csv('operaciones.csv')\n",
    "df_aditivos = pd.read_csv('aditivos.csv')\n",
    "df_calidad = pd.read_csv('calidad.csv')"
   ]
  },
  {
   "cell_type": "markdown",
   "id": "32596066-d7ba-4dfb-a33c-59b20c9a9f5a",
   "metadata": {},
   "source": [
    "### Explorando los dataset\n",
    "los datos estan como Dtype object por lo que tengo que convertirlos a su tipo de dato para explorarlos mejor.\\\n",
    "-Primero convierto la columna 'Date' de cada dataset a formato datetime. Dado que todas tiene el mismo formato.\\\n",
    "-El dataset operaciones tiene la columna 'Grado' categórica.\\\n",
    "-El dataset aditivos no tiene columnas categóricas.\\\n",
    "-El dataset calidad tiene la columna 'Brillo_75' categórica.\n"
   ]
  },
  {
   "cell_type": "code",
   "execution_count": 354,
   "id": "c8582f6a-cdde-45c7-8225-4f7a0b6e2cb8",
   "metadata": {},
   "outputs": [
    {
     "name": "stdout",
     "output_type": "stream",
     "text": [
      "<class 'pandas.core.frame.DataFrame'>\n",
      "RangeIndex: 132481 entries, 0 to 132480\n",
      "Data columns (total 14 columns):\n",
      " #   Column           Non-Null Count   Dtype \n",
      "---  ------           --------------   ----- \n",
      " 0   Date             132481 non-null  object\n",
      " 1   Corte_hoja       132481 non-null  object\n",
      " 2   Grado            132481 non-null  object\n",
      " 3   Velocidad_pope   132481 non-null  object\n",
      " 4   Gramaje_cara     132481 non-null  object\n",
      " 5   Gramaje_Reverso  132481 non-null  object\n",
      " 6   Gramaje_Tripa    132481 non-null  object\n",
      " 7   Gramaje_prote    132481 non-null  object\n",
      " 8   Caudal_cara      132481 non-null  object\n",
      " 9   Caudal_Prote     132481 non-null  object\n",
      " 10  Caudal_Reverso   132481 non-null  object\n",
      " 11  Caudal_Tripa     132481 non-null  object\n",
      " 12  secado_1         132481 non-null  object\n",
      " 13  secado_2         132481 non-null  object\n",
      "dtypes: object(14)\n",
      "memory usage: 14.2+ MB\n"
     ]
    }
   ],
   "source": [
    "#df_operaciones.head()\n",
    "#df_operaciones.describe()\n",
    "#df_operaciones.info()"
   ]
  },
  {
   "cell_type": "code",
   "execution_count": 484,
   "id": "169feca2-e5de-4162-8148-88c180385769",
   "metadata": {},
   "outputs": [
    {
     "name": "stdout",
     "output_type": "stream",
     "text": [
      "<class 'pandas.core.frame.DataFrame'>\n",
      "RangeIndex: 132481 entries, 0 to 132480\n",
      "Data columns (total 19 columns):\n",
      " #   Column                    Non-Null Count   Dtype         \n",
      "---  ------                    --------------   -----         \n",
      " 0   Date                      132481 non-null  datetime64[ns]\n",
      " 1   Resina_CARA               132447 non-null  float64       \n",
      " 2   Resina_TRIPA              132447 non-null  float64       \n",
      " 3   Resina_REVERSO            132447 non-null  float64       \n",
      " 4   Agente_Retencion          132447 non-null  float64       \n",
      " 5   Almidon_cationico_cara    132447 non-null  float64       \n",
      " 6   Soda_CARA                 131328 non-null  float64       \n",
      " 7   Soda_REVERSO              129475 non-null  float64       \n",
      " 8   Agente_Drenaje            132447 non-null  float64       \n",
      " 9   polymin_SK                132447 non-null  float64       \n",
      " 10  Sulfato_CARA              132445 non-null  float64       \n",
      " 11  Sulfato_TRIPA             132447 non-null  float64       \n",
      " 12  Sulfato_REVERSO           132447 non-null  float64       \n",
      " 13  Almidon_CARA-PROTECCION   132447 non-null  float64       \n",
      " 14  Almidon_PROTECCION-TRIPA  132447 non-null  float64       \n",
      " 15  Almidon_REVERSO           132447 non-null  float64       \n",
      " 16  Encolante_PRE             132438 non-null  float64       \n",
      " 17  Encolante_CARA            132447 non-null  float64       \n",
      " 18  Encolante_REVERSO         132438 non-null  float64       \n",
      "dtypes: datetime64[ns](1), float64(18)\n",
      "memory usage: 19.2 MB\n"
     ]
    }
   ],
   "source": [
    "#df_aditivos.head()\n",
    "#df_aditivos.describe()\n",
    "df_aditivos.info()"
   ]
  },
  {
   "cell_type": "code",
   "execution_count": 488,
   "id": "2e66fa26-4d44-497d-9930-0f19dea37c4a",
   "metadata": {},
   "outputs": [
    {
     "name": "stdout",
     "output_type": "stream",
     "text": [
      "<class 'pandas.core.frame.DataFrame'>\n",
      "RangeIndex: 132481 entries, 0 to 132480\n",
      "Data columns (total 18 columns):\n",
      " #   Column              Non-Null Count   Dtype         \n",
      "---  ------              --------------   -----         \n",
      " 0   Date                132481 non-null  datetime64[ns]\n",
      " 1   Gramaje_pope        132480 non-null  float64       \n",
      " 2   Humedad_pope        132480 non-null  float64       \n",
      " 3   Espesor_pope        132480 non-null  float64       \n",
      " 4   Rigidez_Long        131354 non-null  float64       \n",
      " 5   Rigidez_Transv      131354 non-null  float64       \n",
      " 6   Scott_Bond          131359 non-null  float64       \n",
      " 7   Blancura_Cara       131354 non-null  float64       \n",
      " 8   Blancura_Reverso    101585 non-null  float64       \n",
      " 9   Cobb_Cara           131101 non-null  float64       \n",
      " 10  Cobb_Cara_Base      129911 non-null  float64       \n",
      " 11  Cobb_Tripa          131101 non-null  float64       \n",
      " 12  Cobb_Reverso        101351 non-null  float64       \n",
      " 13  Brillo_75           132481 non-null  object        \n",
      " 14  Lisura_PPS          131354 non-null  float64       \n",
      " 15  Tersura_Sheffield   131354 non-null  float64       \n",
      " 16  Blistering_Cara     131230 non-null  float64       \n",
      " 17  Blistering_Reverso  101502 non-null  float64       \n",
      "dtypes: datetime64[ns](1), float64(16), object(1)\n",
      "memory usage: 18.2+ MB\n"
     ]
    }
   ],
   "source": [
    "#df_calidad.head()\n",
    "#df_calidad.describe()\n",
    "df_calidad.info()"
   ]
  },
  {
   "cell_type": "code",
   "execution_count": 358,
   "id": "3eaad9bd-6066-44e8-bcb6-c7eec2f5a787",
   "metadata": {},
   "outputs": [],
   "source": [
    "# Convierte las columnas de fecha que vienen en formato cadena de caracteres\n",
    "\n",
    "df_operaciones['Date'] = pd.to_datetime(df_operaciones['Date'], format='%m/%d/%Y %H:%M:%S')\n",
    "df_aditivos['Date'] = pd.to_datetime(df_aditivos['Date'], format='%m/%d/%Y %H:%M:%S')\n",
    "df_calidad['Date'] = pd.to_datetime(df_calidad['Date'], format='%m/%d/%Y %H:%M:%S')"
   ]
  },
  {
   "cell_type": "code",
   "execution_count": 359,
   "id": "579e8912-046c-4cbf-b563-3d2f61301047",
   "metadata": {},
   "outputs": [
    {
     "name": "stdout",
     "output_type": "stream",
     "text": [
      "Index(['Date', 'Corte_hoja', 'Grado', 'Velocidad_pope', 'Gramaje_cara',\n",
      "       'Gramaje_Reverso', 'Gramaje_Tripa', 'Gramaje_prote', 'Caudal_cara',\n",
      "       'Caudal_Prote', 'Caudal_Reverso', 'Caudal_Tripa', 'secado_1',\n",
      "       'secado_2'],\n",
      "      dtype='object')\n"
     ]
    }
   ],
   "source": [
    "print(df_operaciones.columns)"
   ]
  },
  {
   "cell_type": "code",
   "execution_count": 362,
   "id": "96d2bb3b-3bd1-4955-b373-1e2e288d0d06",
   "metadata": {},
   "outputs": [],
   "source": [
    "# Convierte las columnas del dataset operaciones con datos float que vienen en formato cadena de caracteres\n",
    "\n",
    "columnas_float_op =['Corte_hoja', 'Velocidad_pope', 'Gramaje_cara','Gramaje_Reverso', 'Gramaje_Tripa',\n",
    "                 'Gramaje_prote', 'Caudal_cara', 'Caudal_Prote', 'Caudal_Reverso', 'Caudal_Tripa', 'secado_1',\n",
    "                 'secado_2']\n",
    "\n",
    "for columna in columnas_float_op:\n",
    "    df_operaciones[columna] = pd.to_numeric(df_operaciones[columna], errors='coerce')\n",
    "    "
   ]
  },
  {
   "cell_type": "code",
   "execution_count": 364,
   "id": "df8b9c97-f0a2-4bf9-b6d2-1057ee40ea5e",
   "metadata": {},
   "outputs": [
    {
     "name": "stdout",
     "output_type": "stream",
     "text": [
      "Index(['Date', 'Resina_CARA', 'Resina_TRIPA', 'Resina_REVERSO',\n",
      "       'Agente_Retencion', 'Almidon_cationico_cara', 'Soda_CARA ',\n",
      "       'Soda_REVERSO', 'Agente_Drenaje', 'polymin_SK', 'Sulfato_CARA',\n",
      "       'Sulfato_TRIPA', 'Sulfato_REVERSO', 'Almidon_CARA-PROTECCION',\n",
      "       'Almidon_PROTECCION-TRIPA', 'Almidon_REVERSO', 'Encolante_PRE',\n",
      "       'Encolante_CARA', 'Encolante_REVERSO'],\n",
      "      dtype='object')\n"
     ]
    }
   ],
   "source": [
    "print(df_aditivos.columns)"
   ]
  },
  {
   "cell_type": "code",
   "execution_count": 366,
   "id": "c095c4a8-15dd-4387-bcd2-6e702b7fa74c",
   "metadata": {},
   "outputs": [],
   "source": [
    "# Convierte las columnas del dataset aditivos con datos float que vienen en formato cadena de caracteres\n",
    "\n",
    "columnas_float_ad = ['Resina_CARA', 'Resina_TRIPA', 'Resina_REVERSO',\n",
    "       'Agente_Retencion', 'Almidon_cationico_cara', 'Soda_CARA ',\n",
    "       'Soda_REVERSO', 'Agente_Drenaje', 'polymin_SK', 'Sulfato_CARA',\n",
    "       'Sulfato_TRIPA', 'Sulfato_REVERSO', 'Almidon_CARA-PROTECCION',\n",
    "       'Almidon_PROTECCION-TRIPA', 'Almidon_REVERSO', 'Encolante_PRE',\n",
    "       'Encolante_CARA', 'Encolante_REVERSO']\n",
    "\n",
    "for columna in columnas_float_ad:\n",
    "    df_aditivos[columna] = pd.to_numeric(df_aditivos[columna], errors='coerce')"
   ]
  },
  {
   "cell_type": "code",
   "execution_count": 368,
   "id": "6fea5e0c-b9a2-40e3-90c8-de793f142d61",
   "metadata": {},
   "outputs": [
    {
     "name": "stdout",
     "output_type": "stream",
     "text": [
      "Index(['Date', 'Gramaje_pope', 'Humedad_pope', 'Espesor_pope', 'Rigidez_Long',\n",
      "       'Rigidez_Transv', 'Scott_Bond', 'Blancura_Cara', 'Blancura_Reverso',\n",
      "       'Cobb_Cara', 'Cobb_Cara_Base', 'Cobb_Tripa', 'Cobb_Reverso',\n",
      "       'Brillo_75', 'Lisura_PPS', 'Tersura_Sheffield', 'Blistering_Cara',\n",
      "       'Blistering_Reverso'],\n",
      "      dtype='object')\n"
     ]
    }
   ],
   "source": [
    "print(df_calidad.columns)"
   ]
  },
  {
   "cell_type": "code",
   "execution_count": 370,
   "id": "57a1a2bb-c1e1-451a-a3c0-e2978cd95e02",
   "metadata": {},
   "outputs": [],
   "source": [
    "# Convierte las columnas del dataset calidad con datos float que vienen en formato cadena de caracteres\n",
    "\n",
    "columnas_float_ca = ['Gramaje_pope', 'Humedad_pope', 'Espesor_pope', 'Rigidez_Long',\n",
    "       'Rigidez_Transv', 'Scott_Bond', 'Blancura_Cara', 'Blancura_Reverso',\n",
    "       'Cobb_Cara', 'Cobb_Cara_Base', 'Cobb_Tripa', 'Cobb_Reverso', 'Lisura_PPS', 'Tersura_Sheffield', 'Blistering_Cara',\n",
    "       'Blistering_Reverso']\n",
    "\n",
    "for columna in columnas_float_ca:\n",
    "    df_calidad[columna] = pd.to_numeric(df_calidad[columna], errors='coerce')"
   ]
  },
  {
   "cell_type": "markdown",
   "id": "54f2ad91-9ed5-429f-8b54-6435a82fe447",
   "metadata": {},
   "source": [
    "Guardo estos nuevos dataset como archivos csv para usarlos en etapas posteriores del proyecto"
   ]
  },
  {
   "cell_type": "code",
   "execution_count": 373,
   "id": "651cae8c-bf2a-4f91-92fe-d980a54dced5",
   "metadata": {},
   "outputs": [],
   "source": [
    "df_operaciones.to_csv('ds_operaciones.csv', index=False)\n",
    "df_aditivos.to_csv('ds_aditivos.csv', index=False)\n",
    "df_calidad.to_csv('ds_calidad.csv', index=False)"
   ]
  },
  {
   "cell_type": "markdown",
   "id": "4a575da0-aba9-41c4-8f01-5c9b86171feb",
   "metadata": {},
   "source": [
    "#### Los tres dataset tienen el mismo número de muestras (132481 filas)"
   ]
  },
  {
   "cell_type": "code",
   "execution_count": 403,
   "id": "e68a98d7-3135-401c-9ca8-8adab0fb0f5d",
   "metadata": {},
   "outputs": [
    {
     "name": "stdout",
     "output_type": "stream",
     "text": [
      "Tamaño del dataset\n",
      " Cantidad de muestras del dataset de operaciones:  132481\n",
      " Cantidad de muestras del dataset de aditivos:  132481\n",
      " Cantidad de muestras del dataset de calidad:  132481\n"
     ]
    }
   ],
   "source": [
    "print('Tamaño del dataset')\n",
    "print(f' Cantidad de muestras del dataset de operaciones: ', len(df_operaciones['Date']))\n",
    "print(f' Cantidad de muestras del dataset de aditivos: ', len(df_aditivos['Date']))\n",
    "print(f' Cantidad de muestras del dataset de calidad: ', len(df_calidad['Date']))"
   ]
  },
  {
   "cell_type": "markdown",
   "id": "f3571531-2d8a-4439-85fd-be5001475425",
   "metadata": {},
   "source": [
    "#### Los tres dataset comienzan al mismo tiempo 2024-05-01 00:00"
   ]
  },
  {
   "cell_type": "code",
   "execution_count": 405,
   "id": "d94594cc-d987-43b6-944a-67156925413f",
   "metadata": {},
   "outputs": [
    {
     "name": "stdout",
     "output_type": "stream",
     "text": [
      "Fecha de inicio\n",
      " Fecha de inicio dataset operaciones:  2024-05-01 00:00:00\n",
      " Fecha de inicio dataset operaciones:  2024-05-01 00:00:00\n",
      " Fecha de inicio dataset operaciones:  2024-05-01 00:00:00\n"
     ]
    }
   ],
   "source": [
    "print('Fecha de inicio')\n",
    "print(f' Fecha de inicio dataset operaciones: ', df_operaciones['Date'].min())\n",
    "print(f' Fecha de inicio dataset operaciones: ', df_aditivos['Date'].min())\n",
    "print(f' Fecha de inicio dataset operaciones: ', df_calidad['Date'].min())"
   ]
  },
  {
   "cell_type": "markdown",
   "id": "c1c4c389-2b65-4043-9d56-4863b50ac5f9",
   "metadata": {},
   "source": [
    "#### Los tres dataset finalizan al mismo tiempo 2024-08-01 00:00"
   ]
  },
  {
   "cell_type": "code",
   "execution_count": 407,
   "id": "2adb2132-7627-4d60-8207-04cea2ed512f",
   "metadata": {},
   "outputs": [
    {
     "name": "stdout",
     "output_type": "stream",
     "text": [
      "Fecha de termino\n",
      " Fecha de termino dataset operaciones:  2024-08-01 00:00:00\n",
      " Fecha de termino dataset operaciones:  2024-08-01 00:00:00\n",
      " Fecha de termino dataset operaciones:  2024-08-01 00:00:00\n"
     ]
    }
   ],
   "source": [
    "print('Fecha de termino')\n",
    "print(f' Fecha de termino dataset operaciones: ', df_operaciones['Date'].max())\n",
    "print(f' Fecha de termino dataset operaciones: ', df_aditivos['Date'].max())\n",
    "print(f' Fecha de termino dataset operaciones: ', df_calidad['Date'].max())"
   ]
  },
  {
   "cell_type": "code",
   "execution_count": 411,
   "id": "5d68c771-64b0-4151-856b-636f32284ec4",
   "metadata": {},
   "outputs": [
    {
     "name": "stdout",
     "output_type": "stream",
     "text": [
      "Datos no numéricos del dataset de operaciones\n",
      " Corte_hoja:  34\n",
      " Velocidad_pope:  20\n",
      " Gramaje_cara:  208\n",
      " Gramaje_Reverso:  208\n",
      " Gramaje_Tripa:  208\n",
      " Gramaje_prote:  208\n",
      " Caudal_cara:  19\n",
      " Caudal_Prote:  19\n",
      " Caudal_Reverso:  19\n",
      " Caudal_Tripa:  19\n",
      " secado_1:  43\n",
      " secado_2:  43\n"
     ]
    }
   ],
   "source": [
    "print('Datos no numéricos del dataset de operaciones')\n",
    "for i in columnas_float_op:\n",
    "    print(f' {i}: ', df_operaciones[i].isna().sum())"
   ]
  },
  {
   "cell_type": "code",
   "execution_count": 413,
   "id": "879f7738-e6f2-4884-bccf-b1db0b9ff54e",
   "metadata": {},
   "outputs": [
    {
     "name": "stdout",
     "output_type": "stream",
     "text": [
      "Datos no numéricos del dataset de aditivos\n",
      " Resina_CARA:  34\n",
      " Resina_TRIPA:  34\n",
      " Resina_REVERSO:  34\n",
      " Agente_Retencion:  34\n",
      " Almidon_cationico_cara:  34\n",
      " Soda_CARA :  1153\n",
      " Soda_REVERSO:  3006\n",
      " Agente_Drenaje:  34\n",
      " polymin_SK:  34\n",
      " Sulfato_CARA:  36\n",
      " Sulfato_TRIPA:  34\n",
      " Sulfato_REVERSO:  34\n",
      " Almidon_CARA-PROTECCION:  34\n",
      " Almidon_PROTECCION-TRIPA:  34\n",
      " Almidon_REVERSO:  34\n",
      " Encolante_PRE:  43\n",
      " Encolante_CARA:  34\n",
      " Encolante_REVERSO:  43\n"
     ]
    }
   ],
   "source": [
    "print('Datos no numéricos del dataset de aditivos')\n",
    "for i in columnas_float_ad:\n",
    "    print(f' {i}: ', df_aditivos[i].isna().sum())"
   ]
  },
  {
   "cell_type": "markdown",
   "id": "aad13770-8958-48d7-8e1b-953589555141",
   "metadata": {},
   "source": [
    "#### Las columnas 'Encolante_PRE' 'Encolante_CARA' 'Encolante_REVERSO' tiene solo ceros y NaN"
   ]
  },
  {
   "cell_type": "code",
   "execution_count": 482,
   "id": "0f8a1166-581e-4c13-a500-fadf62bc975c",
   "metadata": {},
   "outputs": [
    {
     "name": "stdout",
     "output_type": "stream",
     "text": [
      "Valores únicos en Encolante_PRE  [ 0. nan]\n",
      "Valores únicos en Encolante_CARA  [ 0. nan]\n",
      "Valores únicos en Encolante_PRE  [ 0. nan]\n"
     ]
    }
   ],
   "source": [
    "print(f'Valores únicos en Encolante_PRE ', np.unique(df_aditivos['Encolante_PRE']))\n",
    "print(f'Valores únicos en Encolante_CARA ', np.unique(df_aditivos['Encolante_CARA']))\n",
    "print(f'Valores únicos en Encolante_PRE ', np.unique(df_aditivos['Encolante_REVERSO']))"
   ]
  },
  {
   "cell_type": "markdown",
   "id": "2b20033c-3016-415a-8acc-0db33a8379e8",
   "metadata": {},
   "source": [
    "#### En el dataset de calidad hay tres columnas que tienen un gran número de valores NaN con más de 30000"
   ]
  },
  {
   "cell_type": "code",
   "execution_count": 440,
   "id": "9480e68a-07cb-4bba-b462-433ee3632c73",
   "metadata": {},
   "outputs": [
    {
     "name": "stdout",
     "output_type": "stream",
     "text": [
      "Datos no numéricos del dataset de calidad\n",
      " Gramaje_pope:  1\n",
      " Humedad_pope:  1\n",
      " Espesor_pope:  1\n",
      " Rigidez_Long:  1127\n",
      " Rigidez_Transv:  1127\n",
      " Scott_Bond:  1122\n",
      " Blancura_Cara:  1127\n",
      " Blancura_Reverso:  30896\n",
      " Cobb_Cara:  1380\n",
      " Cobb_Cara_Base:  2570\n",
      " Cobb_Tripa:  1380\n",
      " Cobb_Reverso:  31130\n",
      " Lisura_PPS:  1127\n",
      " Tersura_Sheffield:  1127\n",
      " Blistering_Cara:  1251\n",
      " Blistering_Reverso:  30979\n"
     ]
    }
   ],
   "source": [
    "print('Datos no numéricos del dataset de calidad')\n",
    "for i in columnas_float_ca:\n",
    "    print(f' {i}: ', df_calidad[i].isna().sum())"
   ]
  },
  {
   "cell_type": "markdown",
   "id": "0778dcb4-6dd4-4f86-afa1-a9b3929c1f84",
   "metadata": {},
   "source": [
    "#### La columna 'Brillo_75' solo tiene dos valores y no son valores de calidad, por lo que pueden ser errores de medición"
   ]
  },
  {
   "cell_type": "code",
   "execution_count": 491,
   "id": "9197d034-a916-487f-a825-0b3eb03fdfe3",
   "metadata": {},
   "outputs": [
    {
     "name": "stdout",
     "output_type": "stream",
     "text": [
      "Valores unicos en Brillo_75  ['I/O Timeout' 'Intf Shut']\n"
     ]
    }
   ],
   "source": [
    "print(f'Valores unicos en Brillo_75 ',np.unique(df_calidad['Brillo_75']))"
   ]
  },
  {
   "cell_type": "markdown",
   "id": "a714ff4d-9494-41b9-849c-2a590af4f273",
   "metadata": {},
   "source": [
    "#### La columna categórica 'Grado' que contiene los tipos de fabricación tiene dos tipos de datos que no corresponden"
   ]
  },
  {
   "cell_type": "code",
   "execution_count": 498,
   "id": "7544bf51-9def-490d-835b-d250cac9715b",
   "metadata": {},
   "outputs": [
    {
     "name": "stdout",
     "output_type": "stream",
     "text": [
      "['2C205B' '2C215M' '2C225B' '2C235M' '2C240B' '2C245C' '2C250M' '2C295C'\n",
      " '2C325M' '2F225M' '3C250B' '3C255C' '3C260M' '3C265C' '3C270B' '3C275M'\n",
      " '3C285C' '3C290B' '3C295C' '3C295M' '3C310C' '3C310M' '3C311M' '3C315B'\n",
      " '3C325M' '3C330C' '3C340B' '3C345C' '3C370B' '3C370C' '3C370M'\n",
      " 'Cargando...' 'I/O Timeout']\n"
     ]
    }
   ],
   "source": [
    "print(np.unique(df_operaciones['Grado']))"
   ]
  },
  {
   "cell_type": "code",
   "execution_count": null,
   "id": "13fc129a-02f9-487f-a3ae-43589d99720b",
   "metadata": {},
   "outputs": [],
   "source": []
  }
 ],
 "metadata": {
  "kernelspec": {
   "display_name": "proyecto_final_cristian_vasquez (Python 3.12)",
   "language": "python",
   "name": "proyecto_final_cristian_vasquez"
  },
  "language_info": {
   "codemirror_mode": {
    "name": "ipython",
    "version": 3
   },
   "file_extension": ".py",
   "mimetype": "text/x-python",
   "name": "python",
   "nbconvert_exporter": "python",
   "pygments_lexer": "ipython3",
   "version": "3.12.4"
  }
 },
 "nbformat": 4,
 "nbformat_minor": 5
}
