{
 "cells": [
  {
   "cell_type": "markdown",
   "id": "7d6a65be-6d32-4b86-9cec-d926867f2c54",
   "metadata": {},
   "source": [
    "### Analisis exploratorio\n",
    "Importo las librerias que voy a necesitar"
   ]
  },
  {
   "cell_type": "code",
   "execution_count": 36,
   "id": "42e8a7be-1f8e-4541-a4c1-9fbd2a30485d",
   "metadata": {},
   "outputs": [],
   "source": [
    "import numpy as nd\n",
    "import pandas as pd\n",
    "import seaborn as sns\n",
    "import matplotlib.pyplot as plt"
   ]
  },
  {
   "cell_type": "markdown",
   "id": "ea227411-f63b-4fca-9ede-37c4ddc8d5df",
   "metadata": {},
   "source": [
    "Cargo los dataset"
   ]
  },
  {
   "cell_type": "code",
   "execution_count": 184,
   "id": "6dbc7765-be1f-4e95-9971-0c19b59861a2",
   "metadata": {},
   "outputs": [
    {
     "name": "stderr",
     "output_type": "stream",
     "text": [
      "C:\\Users\\sas\\AppData\\Local\\Temp\\ipykernel_27412\\285350360.py:1: DtypeWarning: Columns (1,3,4,5,6,7,8,9,10,11,12,13) have mixed types. Specify dtype option on import or set low_memory=False.\n",
      "  df_operaciones = pd.read_csv('operaciones.csv')\n",
      "C:\\Users\\sas\\AppData\\Local\\Temp\\ipykernel_27412\\285350360.py:2: DtypeWarning: Columns (1,2,3,4,5,6,7,8,9,10,11,12,13,14,15,16,17,18) have mixed types. Specify dtype option on import or set low_memory=False.\n",
      "  df_aditivos = pd.read_csv('aditivos.csv')\n",
      "C:\\Users\\sas\\AppData\\Local\\Temp\\ipykernel_27412\\285350360.py:3: DtypeWarning: Columns (1,2,3,4,5,6,7,8,9,10,11,12,14,15,16,17) have mixed types. Specify dtype option on import or set low_memory=False.\n",
      "  df_calidad = pd.read_csv('calidad.csv')\n"
     ]
    }
   ],
   "source": [
    "df_operaciones = pd.read_csv('operaciones.csv')\n",
    "df_aditivos = pd.read_csv('aditivos.csv')\n",
    "df_calidad = pd.read_csv('calidad.csv')"
   ]
  },
  {
   "cell_type": "markdown",
   "id": "32596066-d7ba-4dfb-a33c-59b20c9a9f5a",
   "metadata": {},
   "source": [
    "Explorando el dataset operaciones:\\\n",
    "-los datos estan como Dtype object lo que significa que tengo que convertirlos a su tipo de dato para explorarlos mejor.\\\n",
    "-Primero convierto la columna 'Date' de cada dataset a formato datetime. Dado que todas tiene el mismo formato.\\\n",
    "-El dataset operaciones tiene la columna 'Grado' categórica.\\\n",
    "-El dataset aditivos no tiene columnas categóricas.\\\n",
    "-El dataset calidad tiene la columna 'Brillo_75' categórica.\\\n"
   ]
  },
  {
   "cell_type": "code",
   "execution_count": 226,
   "id": "c8582f6a-cdde-45c7-8225-4f7a0b6e2cb8",
   "metadata": {},
   "outputs": [],
   "source": [
    "#df_operaciones.head()\n",
    "#df_operaciones.describe()\n",
    "#df_operaciones.info()"
   ]
  },
  {
   "cell_type": "code",
   "execution_count": 211,
   "id": "169feca2-e5de-4162-8148-88c180385769",
   "metadata": {},
   "outputs": [],
   "source": [
    "#df_aditivos.head()\n",
    "#df_aditivos.describe()\n",
    "#df_aditivos.info()"
   ]
  },
  {
   "cell_type": "code",
   "execution_count": 221,
   "id": "2e66fa26-4d44-497d-9930-0f19dea37c4a",
   "metadata": {},
   "outputs": [],
   "source": [
    "#f_calidad.head()\n",
    "#df_calidad.describe()\n",
    "#df_calidad.info()"
   ]
  },
  {
   "cell_type": "code",
   "execution_count": 193,
   "id": "3eaad9bd-6066-44e8-bcb6-c7eec2f5a787",
   "metadata": {},
   "outputs": [],
   "source": [
    "df_operaciones['Date'] = pd.to_datetime(df_operaciones['Date'], format='%m/%d/%Y %H:%M:%S')\n",
    "df_aditivos['Date'] = pd.to_datetime(df_aditivos['Date'], format='%m/%d/%Y %H:%M:%S')\n",
    "df_calidad['Date'] = pd.to_datetime(df_calidad['Date'], format='%m/%d/%Y %H:%M:%S')"
   ]
  },
  {
   "cell_type": "code",
   "execution_count": 194,
   "id": "579e8912-046c-4cbf-b563-3d2f61301047",
   "metadata": {},
   "outputs": [
    {
     "name": "stdout",
     "output_type": "stream",
     "text": [
      "Index(['Date', 'Corte_hoja', 'Grado', 'Velocidad_pope', 'Gramaje_cara',\n",
      "       'Gramaje_Reverso', 'Gramaje_Tripa', 'Gramaje_prote', 'Caudal_cara',\n",
      "       'Caudal_Prote', 'Caudal_Reverso', 'Caudal_Tripa', 'secado_1',\n",
      "       'secado_2'],\n",
      "      dtype='object')\n"
     ]
    }
   ],
   "source": [
    "print(df_operaciones.columns)"
   ]
  },
  {
   "cell_type": "code",
   "execution_count": 197,
   "id": "96d2bb3b-3bd1-4955-b373-1e2e288d0d06",
   "metadata": {},
   "outputs": [],
   "source": [
    "columnas_float_op =['Corte_hoja', 'Velocidad_pope', 'Gramaje_cara','Gramaje_Reverso', 'Gramaje_Tripa',\n",
    "                 'Gramaje_prote', 'Caudal_cara', 'Caudal_Prote', 'Caudal_Reverso', 'Caudal_Tripa', 'secado_1',\n",
    "                 'secado_2']\n",
    "\n",
    "for columna in columnas_float_op:\n",
    "    df_operaciones[columna] = pd.to_numeric(df_operaciones[columna], errors='coerce')\n",
    "    "
   ]
  },
  {
   "cell_type": "code",
   "execution_count": 199,
   "id": "df8b9c97-f0a2-4bf9-b6d2-1057ee40ea5e",
   "metadata": {},
   "outputs": [
    {
     "name": "stdout",
     "output_type": "stream",
     "text": [
      "Index(['Date', 'Resina_CARA', 'Resina_TRIPA', 'Resina_REVERSO',\n",
      "       'Agente_Retencion', 'Almidon_cationico_cara', 'Soda_CARA ',\n",
      "       'Soda_REVERSO', 'Agente_Drenaje', 'polymin_SK', 'Sulfato_CARA',\n",
      "       'Sulfato_TRIPA', 'Sulfato_REVERSO', 'Almidon_CARA-PROTECCION',\n",
      "       'Almidon_PROTECCION-TRIPA', 'Almidon_REVERSO', 'Encolante_PRE',\n",
      "       'Encolante_CARA', 'Encolante_REVERSO'],\n",
      "      dtype='object')\n"
     ]
    }
   ],
   "source": [
    "print(df_aditivos.columns)"
   ]
  },
  {
   "cell_type": "code",
   "execution_count": 205,
   "id": "c095c4a8-15dd-4387-bcd2-6e702b7fa74c",
   "metadata": {},
   "outputs": [],
   "source": [
    "columnas_float_ad = ['Resina_CARA', 'Resina_TRIPA', 'Resina_REVERSO',\n",
    "       'Agente_Retencion', 'Almidon_cationico_cara', 'Soda_CARA ',\n",
    "       'Soda_REVERSO', 'Agente_Drenaje', 'polymin_SK', 'Sulfato_CARA',\n",
    "       'Sulfato_TRIPA', 'Sulfato_REVERSO', 'Almidon_CARA-PROTECCION',\n",
    "       'Almidon_PROTECCION-TRIPA', 'Almidon_REVERSO', 'Encolante_PRE',\n",
    "       'Encolante_CARA', 'Encolante_REVERSO']\n",
    "\n",
    "for columna in columnas_float_ad:\n",
    "    df_aditivos[columna] = pd.to_numeric(df_aditivos[columna], errors='coerce')"
   ]
  },
  {
   "cell_type": "code",
   "execution_count": 213,
   "id": "6fea5e0c-b9a2-40e3-90c8-de793f142d61",
   "metadata": {},
   "outputs": [
    {
     "name": "stdout",
     "output_type": "stream",
     "text": [
      "Index(['Date', 'Gramaje_pope', 'Humedad_pope', 'Espesor_pope', 'Rigidez_Long',\n",
      "       'Rigidez_Transv', 'Scott_Bond', 'Blancura_Cara', 'Blancura_Reverso',\n",
      "       'Cobb_Cara', 'Cobb_Cara_Base', 'Cobb_Tripa', 'Cobb_Reverso',\n",
      "       'Brillo_75', 'Lisura_PPS', 'Tersura_Sheffield', 'Blistering_Cara',\n",
      "       'Blistering_Reverso'],\n",
      "      dtype='object')\n"
     ]
    }
   ],
   "source": [
    "print(df_calidad.columns)"
   ]
  },
  {
   "cell_type": "code",
   "execution_count": 217,
   "id": "57a1a2bb-c1e1-451a-a3c0-e2978cd95e02",
   "metadata": {},
   "outputs": [],
   "source": [
    "columnas_float_ad = ['Gramaje_pope', 'Humedad_pope', 'Espesor_pope', 'Rigidez_Long',\n",
    "       'Rigidez_Transv', 'Scott_Bond', 'Blancura_Cara', 'Blancura_Reverso',\n",
    "       'Cobb_Cara', 'Cobb_Cara_Base', 'Cobb_Tripa', 'Cobb_Reverso', 'Lisura_PPS', 'Tersura_Sheffield', 'Blistering_Cara',\n",
    "       'Blistering_Reverso']\n",
    "\n",
    "for columna in columnas_float_ad:\n",
    "    df_calidad[columna] = pd.to_numeric(df_calidad[columna], errors='coerce')"
   ]
  },
  {
   "cell_type": "code",
   "execution_count": null,
   "id": "ab88a706-37a3-4855-8bcb-3df23c719467",
   "metadata": {},
   "outputs": [],
   "source": []
  }
 ],
 "metadata": {
  "kernelspec": {
   "display_name": "proyecto_final_cristian_vasquez (Python 3.12)",
   "language": "python",
   "name": "proyecto_final_cristian_vasquez"
  },
  "language_info": {
   "codemirror_mode": {
    "name": "ipython",
    "version": 3
   },
   "file_extension": ".py",
   "mimetype": "text/x-python",
   "name": "python",
   "nbconvert_exporter": "python",
   "pygments_lexer": "ipython3",
   "version": "3.12.4"
  }
 },
 "nbformat": 4,
 "nbformat_minor": 5
}
