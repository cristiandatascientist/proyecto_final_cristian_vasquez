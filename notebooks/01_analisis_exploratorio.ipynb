{
 "cells": [
  {
   "cell_type": "markdown",
   "id": "7d6a65be-6d32-4b86-9cec-d926867f2c54",
   "metadata": {},
   "source": [
    "### Analisis exploratorio\n",
    "Importo las librerias que voy a necesitar"
   ]
  },
  {
   "cell_type": "code",
   "execution_count": 36,
   "id": "42e8a7be-1f8e-4541-a4c1-9fbd2a30485d",
   "metadata": {},
   "outputs": [],
   "source": [
    "import numpy as nd\n",
    "import pandas as pd\n",
    "import seaborn as sns\n",
    "import matplotlib.pyplot as plt"
   ]
  },
  {
   "cell_type": "markdown",
   "id": "ea227411-f63b-4fca-9ede-37c4ddc8d5df",
   "metadata": {},
   "source": [
    "Cargo los dataset"
   ]
  },
  {
   "cell_type": "code",
   "execution_count": 46,
   "id": "6dbc7765-be1f-4e95-9971-0c19b59861a2",
   "metadata": {},
   "outputs": [
    {
     "name": "stderr",
     "output_type": "stream",
     "text": [
      "C:\\Users\\sas\\AppData\\Local\\Temp\\ipykernel_27412\\285350360.py:1: DtypeWarning: Columns (1,3,4,5,6,7,8,9,10,11,12,13) have mixed types. Specify dtype option on import or set low_memory=False.\n",
      "  df_operaciones = pd.read_csv('operaciones.csv')\n",
      "C:\\Users\\sas\\AppData\\Local\\Temp\\ipykernel_27412\\285350360.py:2: DtypeWarning: Columns (1,2,3,4,5,6,7,8,9,10,11,12,13,14,15,16,17,18) have mixed types. Specify dtype option on import or set low_memory=False.\n",
      "  df_aditivos = pd.read_csv('aditivos.csv')\n",
      "C:\\Users\\sas\\AppData\\Local\\Temp\\ipykernel_27412\\285350360.py:3: DtypeWarning: Columns (1,2,3,4,5,6,7,8,9,10,11,12,14,15,16,17) have mixed types. Specify dtype option on import or set low_memory=False.\n",
      "  df_calidad = pd.read_csv('calidad.csv')\n"
     ]
    }
   ],
   "source": [
    "df_operaciones = pd.read_csv('operaciones.csv')\n",
    "df_aditivos = pd.read_csv('aditivos.csv')\n",
    "df_calidad = pd.read_csv('calidad.csv')"
   ]
  },
  {
   "cell_type": "code",
   "execution_count": null,
   "id": "c8582f6a-cdde-45c7-8225-4f7a0b6e2cb8",
   "metadata": {},
   "outputs": [],
   "source": []
  }
 ],
 "metadata": {
  "kernelspec": {
   "display_name": "proyecto_final_cristian_vasquez (Python 3.12)",
   "language": "python",
   "name": "proyecto_final_cristian_vasquez"
  },
  "language_info": {
   "codemirror_mode": {
    "name": "ipython",
    "version": 3
   },
   "file_extension": ".py",
   "mimetype": "text/x-python",
   "name": "python",
   "nbconvert_exporter": "python",
   "pygments_lexer": "ipython3",
   "version": "3.12.4"
  }
 },
 "nbformat": 4,
 "nbformat_minor": 5
}
